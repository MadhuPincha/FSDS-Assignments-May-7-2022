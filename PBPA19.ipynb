{
 "cells": [
  {
   "cell_type": "markdown",
   "metadata": {},
   "source": [
    "**Question1**\n",
    "Create a function that takes a string and returns a string in which each character is repeated\n",
    "once."
   ]
  },
  {
   "cell_type": "code",
   "execution_count": 19,
   "metadata": {},
   "outputs": [
    {
     "name": "stdout",
     "output_type": "stream",
     "text": [
      "11223344!!__"
     ]
    }
   ],
   "source": [
    "def double_char(s):\n",
    "    for i in s:\n",
    "        print(i*2, end='')\n",
    "#testcases\n",
    "#double_char('String')\n",
    "#double_char('hello World!')\n",
    "double_char(\"1234!_\")"
   ]
  },
  {
   "cell_type": "markdown",
   "metadata": {},
   "source": [
    "**Question2**\n",
    "Create a function that reverses a boolean value and returns the string &quot;boolean expected&quot;\n",
    "if another variable type is given."
   ]
  },
  {
   "cell_type": "code",
   "execution_count": 27,
   "metadata": {},
   "outputs": [
    {
     "data": {
      "text/plain": [
       "'boolean expected'"
      ]
     },
     "execution_count": 27,
     "metadata": {},
     "output_type": "execute_result"
    }
   ],
   "source": [
    "def reverse(b):\n",
    "    if(type(b)!=bool):\n",
    "        return('boolean expected')\n",
    "    return(not(b))\n",
    "#test cases\n",
    "reverse(True)\n",
    "reverse(False)\n",
    "reverse(0)\n",
    "reverse(None)"
   ]
  },
  {
   "cell_type": "markdown",
   "metadata": {},
   "source": [
    "**Question3**\n",
    "Create a function that returns the thickness (in meters) of a piece of paper after folding it n\n",
    "number of times. The paper starts off with a thickness of 0.5mm."
   ]
  },
  {
   "cell_type": "code",
   "execution_count": 36,
   "metadata": {},
   "outputs": [
    {
     "name": "stdout",
     "output_type": "stream",
     "text": [
      "1048.576 m"
     ]
    }
   ],
   "source": [
    "def num_layers(n):\n",
    "    m=((2**n)*0.5)/1000\n",
    "    print(m,'m',end='')\n",
    "#test cases\n",
    "#num_layers(1)\n",
    "#num_layers(4)\n",
    "num_layers(21)"
   ]
  },
  {
   "cell_type": "markdown",
   "metadata": {},
   "source": [
    "**Question4**\n",
    "Create a function that takes a single string as argument and returns an ordered list containing\n",
    "the indices of all capital letters in the string."
   ]
  },
  {
   "cell_type": "code",
   "execution_count": 44,
   "metadata": {},
   "outputs": [
    {
     "data": {
      "text/plain": [
       "[1]"
      ]
     },
     "execution_count": 44,
     "metadata": {},
     "output_type": "execute_result"
    }
   ],
   "source": [
    "def index_of_caps(s):\n",
    "    l=[]\n",
    "    for i in s:\n",
    "        if(i.isupper()):\n",
    "            l.append(s.index(i))\n",
    "    return(l)\n",
    "#test cases\n",
    "index_of_caps('eDaBiT')\n",
    "index_of_caps('eQuINoX')\n",
    "index_of_caps('determine')\n",
    "index_of_caps('STRIKE')\n",
    "index_of_caps('sUn')"
   ]
  },
  {
   "cell_type": "markdown",
   "metadata": {},
   "source": [
    "**Question5**\n",
    "Using list comprehensions, create a function that finds all even numbers from 1 to the given\n",
    "number."
   ]
  },
  {
   "cell_type": "code",
   "execution_count": 47,
   "metadata": {},
   "outputs": [
    {
     "data": {
      "text/plain": [
       "[2]"
      ]
     },
     "execution_count": 47,
     "metadata": {},
     "output_type": "execute_result"
    }
   ],
   "source": [
    "def find_even_nums(n):\n",
    "    l=[i for i in range(1,n+1) if i%2==0]\n",
    "    return(l)\n",
    "#test cases\n",
    "find_even_nums(8)\n",
    "find_even_nums(4)\n",
    "find_even_nums(2)"
   ]
  }
 ],
 "metadata": {
  "kernelspec": {
   "display_name": "Python 3",
   "language": "python",
   "name": "python3"
  },
  "language_info": {
   "codemirror_mode": {
    "name": "ipython",
    "version": 3
   },
   "file_extension": ".py",
   "mimetype": "text/x-python",
   "name": "python",
   "nbconvert_exporter": "python",
   "pygments_lexer": "ipython3",
   "version": "3.7.1"
  }
 },
 "nbformat": 4,
 "nbformat_minor": 2
}
