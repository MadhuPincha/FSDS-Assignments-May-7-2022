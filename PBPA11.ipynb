{
 "cells": [
  {
   "cell_type": "markdown",
   "metadata": {},
   "source": [
    "1. Write a Python program to find words which are greater than given length k?\n",
    "2. Write a Python program for removing i-th character from a string?\n",
    "3. Write a Python program to split and join a string?\n",
    "4. Write a Python to check if a given string is binary string or not?\n",
    "5. Write a Python program to find uncommon words from two Strings?\n",
    "6. Write a Python to find all duplicate characters in string?\n",
    "7. Write a Python Program to check if a string contains any special character?"
   ]
  },
  {
   "cell_type": "code",
   "execution_count": 6,
   "metadata": {},
   "outputs": [
    {
     "name": "stdout",
     "output_type": "stream",
     "text": [
      "twref sfwe ffew f4red\n",
      "Enter length k = 4\n",
      "twref f4red "
     ]
    }
   ],
   "source": [
    "#ANSWER 1\n",
    "\n",
    "\n",
    "s=list(map(str, input().split()))\n",
    "k=int(input('Enter length k = '))\n",
    "for i in s:\n",
    "    if(len(i)>k):\n",
    "        print(i, end=' ')"
   ]
  },
  {
   "cell_type": "code",
   "execution_count": 9,
   "metadata": {},
   "outputs": [
    {
     "name": "stdout",
     "output_type": "stream",
     "text": [
      "Enter string: vervrt\n",
      "Enter index 2\n",
      "vevrt"
     ]
    }
   ],
   "source": [
    "#ANSWER 2\n",
    "\n",
    "s=list(input('Enter string: '))\n",
    "i=int(input('Enter index '))\n",
    "s.remove(s[i])\n",
    "for i in s:\n",
    "    print(i, end='')"
   ]
  },
  {
   "cell_type": "code",
   "execution_count": 2,
   "metadata": {},
   "outputs": [
    {
     "name": "stdout",
     "output_type": "stream",
     "text": [
      "Enter string: evev wef ewfw\n",
      "splitted string is:  ['evev', 'wef', 'ewfw']\n",
      "joined string is:  evevwefewfw\n"
     ]
    }
   ],
   "source": [
    "#ANSWER 3\n",
    "\n",
    "s=(input('Enter string: '))\n",
    "s=s.split(' ')\n",
    "print('splitted string is: ',s)\n",
    "s=''.join(s)\n",
    "print('joined string is: ',s)"
   ]
  },
  {
   "cell_type": "code",
   "execution_count": 2,
   "metadata": {},
   "outputs": [
    {
     "name": "stdout",
     "output_type": "stream",
     "text": [
      "Enter string 10101201\n"
     ]
    },
    {
     "data": {
      "text/plain": [
       "False"
      ]
     },
     "execution_count": 2,
     "metadata": {},
     "output_type": "execute_result"
    }
   ],
   "source": [
    "#ANSWER 4\n",
    "\n",
    "#bianry string(only consists of 0,1)\n",
    "s=input('Enter string ')\n",
    "s=set(s)\n",
    "s.issubset({'0','1'})\n",
    "        "
   ]
  },
  {
   "cell_type": "code",
   "execution_count": null,
   "metadata": {},
   "outputs": [],
   "source": [
    "# ANSWER 5\n",
    "\n",
    "#uncommon words from two strings\n",
    "s1=input('Enter first line : ')\n",
    "s2=input('Enter second line : ')\n",
    " \n",
    "s1=set(s1.split())\n",
    "s2=set(s2.split())\n",
    "\n",
    "print(list((s1-s2).union(s2-s1)))"
   ]
  },
  {
   "cell_type": "code",
   "execution_count": 13,
   "metadata": {},
   "outputs": [
    {
     "name": "stdout",
     "output_type": "stream",
     "text": [
      "Enter string madhuma\n",
      "m a "
     ]
    }
   ],
   "source": [
    "#ANSWER 6\n",
    "\n",
    "#duplicate char in a string\n",
    "s=input('Enter string ')\n",
    "s1=set(s) #for unique char only\n",
    "for i in s1:\n",
    "    if(s.count(i)>1):\n",
    "        print(i, end=' ')"
   ]
  },
  {
   "cell_type": "code",
   "execution_count": 12,
   "metadata": {},
   "outputs": [
    {
     "name": "stdout",
     "output_type": "stream",
     "text": [
      "Enter string nker$!rr\n"
     ]
    },
    {
     "data": {
      "text/plain": [
       "True"
      ]
     },
     "execution_count": 12,
     "metadata": {},
     "output_type": "execute_result"
    }
   ],
   "source": [
    "#ANSWER 7\n",
    "\n",
    "#special character\n",
    "s=input('Enter string ')\n",
    "not(s.isalnum())"
   ]
  },
  {
   "cell_type": "code",
   "execution_count": null,
   "metadata": {},
   "outputs": [],
   "source": []
  },
  {
   "cell_type": "code",
   "execution_count": null,
   "metadata": {},
   "outputs": [],
   "source": []
  }
 ],
 "metadata": {
  "kernelspec": {
   "display_name": "Python 3",
   "language": "python",
   "name": "python3"
  },
  "language_info": {
   "codemirror_mode": {
    "name": "ipython",
    "version": 3
   },
   "file_extension": ".py",
   "mimetype": "text/x-python",
   "name": "python",
   "nbconvert_exporter": "python",
   "pygments_lexer": "ipython3",
   "version": "3.7.1"
  }
 },
 "nbformat": 4,
 "nbformat_minor": 2
}
