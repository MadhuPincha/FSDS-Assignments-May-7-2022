{
 "cells": [
  {
   "cell_type": "markdown",
   "metadata": {},
   "source": [
    "1. Write a Python Program to Display Fibonacci Sequence Using Recursion?\n",
    "2. Write a Python Program to Find Factorial of Number Using Recursion?\n",
    "3. Write a Python Program to calculate your Body Mass Index?\n",
    "4. Write a Python Program to calculate the natural logarithm of any number?\n",
    "5. Write a Python Program for cube sum of first n natural numbers?"
   ]
  },
  {
   "cell_type": "code",
   "execution_count": 4,
   "metadata": {},
   "outputs": [
    {
     "name": "stdout",
     "output_type": "stream",
     "text": [
      "Enter number of terms 10\n",
      "1 1 2 3 5 8 13 21 34 55 "
     ]
    }
   ],
   "source": [
    "#ANSWER 1\n",
    "\n",
    "def fib(n):\n",
    "    #base case\n",
    "    if(n==0 or n==1):\n",
    "        return 1\n",
    "    return(fib(n-1)+fib(n-2))\n",
    "terms=int(input('Enter number of terms '))\n",
    "for i in range(terms):\n",
    "    print(fib(i), end=' ')"
   ]
  },
  {
   "cell_type": "code",
   "execution_count": 5,
   "metadata": {},
   "outputs": [
    {
     "name": "stdout",
     "output_type": "stream",
     "text": [
      "Enter a number 5\n",
      "120\n"
     ]
    }
   ],
   "source": [
    "#ANSWER 2\n",
    "\n",
    "def fact(n):\n",
    "    if(n==0):\n",
    "        return 1\n",
    "    return(n*fact(n-1))\n",
    "n=int(input('Enter a number '))\n",
    "print(fact(n))"
   ]
  },
  {
   "cell_type": "code",
   "execution_count": 8,
   "metadata": {},
   "outputs": [
    {
     "name": "stdout",
     "output_type": "stream",
     "text": [
      "Enter mass in kg. and height in metres 70 1.43\n",
      "34.23\n"
     ]
    }
   ],
   "source": [
    "#ANSWER 3\n",
    "\n",
    "#BMI/Quetelet index = mass/height^2\n",
    "m,h=map(float, input('Enter mass in kg. and height in metres ').split())\n",
    "print(round(m/(h**2), ndigits=2))\n"
   ]
  },
  {
   "cell_type": "code",
   "execution_count": 13,
   "metadata": {},
   "outputs": [
    {
     "name": "stdout",
     "output_type": "stream",
     "text": [
      "Enter number 14\n",
      "2.6390573296152584\n"
     ]
    }
   ],
   "source": [
    "#ANSWER 4\n",
    "\n",
    "#natural log\n",
    "import math\n",
    "n=int(input('Enter number '))\n",
    "log=math.log(n)\n",
    "#math.log(n,Base) for log with another base\n",
    "print(log)"
   ]
  },
  {
   "cell_type": "code",
   "execution_count": 14,
   "metadata": {},
   "outputs": [
    {
     "name": "stdout",
     "output_type": "stream",
     "text": [
      "Enter number 3\n"
     ]
    },
    {
     "data": {
      "text/plain": [
       "36"
      ]
     },
     "execution_count": 14,
     "metadata": {},
     "output_type": "execute_result"
    }
   ],
   "source": [
    "#ANSWER 5\n",
    "n=int(input('Enter number '))\n",
    "def sum_cube(n):\n",
    "    if(n==1):\n",
    "        return 1\n",
    "    return(sum_cube(n-1)+n**3)\n",
    "#cube sum\n",
    "sum_cube(n)"
   ]
  },
  {
   "cell_type": "code",
   "execution_count": null,
   "metadata": {},
   "outputs": [],
   "source": []
  }
 ],
 "metadata": {
  "kernelspec": {
   "display_name": "Python 3",
   "language": "python",
   "name": "python3"
  },
  "language_info": {
   "codemirror_mode": {
    "name": "ipython",
    "version": 3
   },
   "file_extension": ".py",
   "mimetype": "text/x-python",
   "name": "python",
   "nbconvert_exporter": "python",
   "pygments_lexer": "ipython3",
   "version": "3.7.1"
  }
 },
 "nbformat": 4,
 "nbformat_minor": 2
}
