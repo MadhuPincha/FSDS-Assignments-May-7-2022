{
 "cells": [
  {
   "cell_type": "markdown",
   "metadata": {},
   "source": [
    "**Question 1:** Write a function that takes a list and a number as arguments. Add the number to the end of\n",
    "the list, then remove the first element of the list. The function should then return the updated\n",
    "list."
   ]
  },
  {
   "cell_type": "code",
   "execution_count": 1,
   "metadata": {},
   "outputs": [
    {
     "data": {
      "text/plain": [
       "[322, 13, 56]"
      ]
     },
     "execution_count": 1,
     "metadata": {},
     "output_type": "execute_result"
    }
   ],
   "source": [
    "#l=list(map(int, input().split(', ')))\n",
    "#=int(input())\n",
    "\n",
    "def next_in_line(l,n):\n",
    "    if(len(l)==0):\n",
    "        return('No list has been selected')\n",
    "    l.append(n)\n",
    "    #print(l)\n",
    "    l.pop(0)\n",
    "    #print(l)\n",
    "    return(l)\n",
    "\n",
    "next_in_line([34,322,13],56)\n",
    "#next_in_line([],56)\n"
   ]
  },
  {
   "cell_type": "markdown",
   "metadata": {},
   "source": [
    "**Question 2:** Create the function that takes a list of dictionaries and returns the sum of people&#39;s budgets."
   ]
  },
  {
   "cell_type": "code",
   "execution_count": 2,
   "metadata": {},
   "outputs": [
    {
     "name": "stdout",
     "output_type": "stream",
     "text": [
      "[{'name': 'John', 'age': 21, 'budget': 23000}, {'name': 'Steve', 'age': 32, 'budget': 40000}, {'name': 'Martin', 'age': 16, 'budget': 2700}]\n"
     ]
    },
    {
     "data": {
      "text/plain": [
       "65700"
      ]
     },
     "execution_count": 2,
     "metadata": {},
     "output_type": "execute_result"
    }
   ],
   "source": [
    "def get_budgets(l):\n",
    "    #l=list(map(dict, input().split(', ')))\n",
    "    print(l)\n",
    "    sum=0\n",
    "    for i in l:\n",
    "        sum=sum+i['budget']\n",
    "    return(sum)\n",
    "\n",
    "#call function\n",
    "get_budgets([\n",
    "{ \"name\": \"John\", \"age\":21, \"budget\":23000 },\n",
    "{ \"name\": \"Steve\", \"age\":32, \"budget\":40000 },\n",
    "{ \"name\": \"Martin\", \"age\":16, \"budget\":2700 }\n",
    "])\n"
   ]
  },
  {
   "cell_type": "markdown",
   "metadata": {},
   "source": [
    "**Question 3:** Create a function that takes a string and returns a string with its letters in alphabetical order."
   ]
  },
  {
   "cell_type": "code",
   "execution_count": 6,
   "metadata": {},
   "outputs": [
    {
     "name": "stdout",
     "output_type": "stream",
     "text": [
      "aacijprstv"
     ]
    }
   ],
   "source": [
    "def alphabet_soup(s):\n",
    "    #n=list(input('Enter a string '))\n",
    "    s=list(s)\n",
    "    s.sort()\n",
    "    for i in s:\n",
    "        print(i, end='')\n",
    "    \n",
    "alphabet_soup('javascript')"
   ]
  },
  {
   "cell_type": "markdown",
   "metadata": {},
   "source": [
    "**Question 4:** Suppose that you invest $10,000 for 10 years at an interest rate of 6% compounded monthly.\n",
    "What will be the value of your investment at the end of the 10 year period?\n",
    "Create a function that accepts the principal p, the term in years t, the interest rate r, and the\n",
    "number of compounding periods per year n. The function returns the value at the end of term\n",
    "rounded to the nearest cent."
   ]
  },
  {
   "cell_type": "code",
   "execution_count": 7,
   "metadata": {},
   "outputs": [
    {
     "data": {
      "text/plain": [
       "2007316.2632325366"
      ]
     },
     "execution_count": 7,
     "metadata": {},
     "output_type": "execute_result"
    }
   ],
   "source": [
    "def compound_interest(p,t,r,n):\n",
    "    A=p*(1+r/n)**(n*t)\n",
    "    return(A)\n",
    "compound_interest(100000, 20, 0.15, 365)"
   ]
  },
  {
   "cell_type": "markdown",
   "metadata": {},
   "source": [
    "**Question 5:** Write a function that takes a list of elements and returns only the integers."
   ]
  },
  {
   "cell_type": "code",
   "execution_count": 11,
   "metadata": {},
   "outputs": [
    {
     "data": {
      "text/plain": [
       "[10, 20, 3]"
      ]
     },
     "execution_count": 11,
     "metadata": {},
     "output_type": "execute_result"
    }
   ],
   "source": [
    "def return_only_integer(l):\n",
    "    #l=list(input().split(', '))\n",
    "    m=[]\n",
    "    for i in l:\n",
    "        if(type(i)==int):\n",
    "            m.append(i)\n",
    "    return(m)\n",
    "return_only_integer([10,\"121\", 56.78, 20, \"car\", 3, \"lion\"])"
   ]
  },
  {
   "cell_type": "code",
   "execution_count": null,
   "metadata": {},
   "outputs": [],
   "source": []
  }
 ],
 "metadata": {
  "kernelspec": {
   "display_name": "Python 3",
   "language": "python",
   "name": "python3"
  },
  "language_info": {
   "codemirror_mode": {
    "name": "ipython",
    "version": 3
   },
   "file_extension": ".py",
   "mimetype": "text/x-python",
   "name": "python",
   "nbconvert_exporter": "python",
   "pygments_lexer": "ipython3",
   "version": "3.7.1"
  }
 },
 "nbformat": 4,
 "nbformat_minor": 2
}
