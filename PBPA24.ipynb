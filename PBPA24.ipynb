{
 "cells": [
  {
   "cell_type": "markdown",
   "metadata": {},
   "source": [
    "**QUESTION 1:** Create a function that takes an integer and returns a list from 1 to the given number, where:\n",
    "1. If the number can be divided evenly by 4, amplify it by 10 (i.e. return 10 times the\n",
    "number).\n",
    "2. If the number cannot be divided evenly by 4, simply return the number."
   ]
  },
  {
   "cell_type": "code",
   "execution_count": 33,
   "metadata": {},
   "outputs": [
    {
     "data": {
      "text/plain": [
       "[1,\n",
       " 2,\n",
       " 3,\n",
       " 40,\n",
       " 5,\n",
       " 6,\n",
       " 7,\n",
       " 80,\n",
       " 9,\n",
       " 10,\n",
       " 11,\n",
       " 120,\n",
       " 13,\n",
       " 14,\n",
       " 15,\n",
       " 160,\n",
       " 17,\n",
       " 18,\n",
       " 19,\n",
       " 200,\n",
       " 21,\n",
       " 22,\n",
       " 23,\n",
       " 240,\n",
       " 25]"
      ]
     },
     "execution_count": 33,
     "metadata": {},
     "output_type": "execute_result"
    }
   ],
   "source": [
    "def amplify(n):\n",
    "    l=[i*10 if i%4==0 else i for i in range(1,n+1)]\n",
    "    return(l)\n",
    "amplify(25)"
   ]
  },
  {
   "cell_type": "markdown",
   "metadata": {},
   "source": [
    "**QUESTION 2:** Create a function that takes a list of numbers and return the number that&#39;s unique."
   ]
  },
  {
   "cell_type": "code",
   "execution_count": 1,
   "metadata": {},
   "outputs": [
    {
     "data": {
      "text/plain": [
       "3"
      ]
     },
     "execution_count": 1,
     "metadata": {},
     "output_type": "execute_result"
    }
   ],
   "source": [
    "def unique(l):\n",
    "    #l=list(map(float or int, input().split()))\n",
    "    for i in l:\n",
    "        if(l.count(i)==1):\n",
    "            return(i)\n",
    "unique([1,1,1,1,3,1,1])"
   ]
  },
  {
   "cell_type": "markdown",
   "metadata": {},
   "source": [
    "**QUESTION 3:** Your task is to create a Circle constructor that creates a circle with a radius provided by an\n",
    "argument. The circles constructed must have two getters getArea() (PIr^2) and\n",
    "getPerimeter() (2PI*r) which give both respective areas and perimeter (circumference).\n",
    "\n",
    "For help with this class, I have provided you with a Rectangle constructor which you can use\n",
    "as a base example."
   ]
  },
  {
   "cell_type": "code",
   "execution_count": 35,
   "metadata": {},
   "outputs": [
    {
     "name": "stdout",
     "output_type": "stream",
     "text": [
      "380\n",
      "69\n"
     ]
    }
   ],
   "source": [
    "pi=3.142857 #or pi=22/7\n",
    "class Circle:\n",
    "    def __init__(self, r):\n",
    "        self.radius=r\n",
    "        \n",
    "    def getArea(self):\n",
    "        return(round(pi*self.radius**2))\n",
    "    \n",
    "    def getPerimeter(self):\n",
    "        return(round(2*pi*self.radius))\n",
    "    \n",
    "#create an object of class Circle\n",
    "circy=Circle(11)\n",
    "print(circy.getArea())\n",
    "print(circy.getPerimeter())"
   ]
  },
  {
   "cell_type": "markdown",
   "metadata": {},
   "source": [
    "**QUESTION 4:** Create a function that takes a list of strings and return a list, sorted from shortest to longest. "
   ]
  },
  {
   "cell_type": "code",
   "execution_count": 3,
   "metadata": {},
   "outputs": [
    {
     "data": {
      "text/plain": [
       "['wef', 'qweq', 'rwtrew']"
      ]
     },
     "execution_count": 3,
     "metadata": {},
     "output_type": "execute_result"
    }
   ],
   "source": [
    "#sorting by creating a new list\n",
    "def sort_by_length1(l):\n",
    "    #print('Enter list of strings')\n",
    "    #l=list(map(str, input().split()))\n",
    "    m=sorted(l, key=len)\n",
    "    return(m)\n",
    "\n",
    "#sorting without creating a new list\n",
    "def sort_by_length2(l):\n",
    "    #print('Enter list of strings')\n",
    "    #l=list(map(str, input().split()))    \n",
    "    l.sort(key=len)\n",
    "    return(l)\n",
    "\n",
    "#call function\n",
    "sort_by_length1(['wef', 'rwtrew', 'qweq'])\n",
    "sort_by_length2(['wef', 'rwtrew', 'qweq'])\n"
   ]
  },
  {
   "cell_type": "markdown",
   "metadata": {},
   "source": [
    "**QUESTION 5:** Create a function that validates whether three given integers form a Pythagorean triplet. The\n",
    "sum of the squares of the two smallest integers must equal the square of the largest number to\n",
    "be validated."
   ]
  },
  {
   "cell_type": "code",
   "execution_count": 37,
   "metadata": {},
   "outputs": [
    {
     "data": {
      "text/plain": [
       "True"
      ]
     },
     "execution_count": 37,
     "metadata": {},
     "output_type": "execute_result"
    }
   ],
   "source": [
    "#pythagorean triplet\n",
    "def is_triplet(a,b,c):\n",
    "    l=[a,b,c]\n",
    "    l.sort()\n",
    "    if(l[0]**2 + l[1]**2 == l[2]**2):\n",
    "        return(True)\n",
    "    else:\n",
    "        return(False)\n",
    "is_triplet(4,3,5)"
   ]
  },
  {
   "cell_type": "code",
   "execution_count": null,
   "metadata": {},
   "outputs": [],
   "source": []
  }
 ],
 "metadata": {
  "kernelspec": {
   "display_name": "Python 3",
   "language": "python",
   "name": "python3"
  },
  "language_info": {
   "codemirror_mode": {
    "name": "ipython",
    "version": 3
   },
   "file_extension": ".py",
   "mimetype": "text/x-python",
   "name": "python",
   "nbconvert_exporter": "python",
   "pygments_lexer": "ipython3",
   "version": "3.7.1"
  }
 },
 "nbformat": 4,
 "nbformat_minor": 2
}
