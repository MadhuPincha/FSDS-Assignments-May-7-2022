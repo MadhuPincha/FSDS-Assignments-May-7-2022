{
 "cells": [
  {
   "cell_type": "code",
   "execution_count": 1,
   "metadata": {},
   "outputs": [
    {
     "data": {
      "text/plain": [
       "'[] represents a list'"
      ]
     },
     "execution_count": 1,
     "metadata": {},
     "output_type": "execute_result"
    }
   ],
   "source": [
    "#Q1\n",
    "'[] represents a list'"
   ]
  },
  {
   "cell_type": "code",
   "execution_count": 5,
   "metadata": {},
   "outputs": [
    {
     "data": {
      "text/plain": [
       "[2, 4, 'hello', 6, 8, 10]"
      ]
     },
     "execution_count": 5,
     "metadata": {},
     "output_type": "execute_result"
    }
   ],
   "source": [
    "#Q2\n",
    "spam= [2, 4, 6, 8, 10] \n",
    "spam.insert(2,'hello')\n",
    "spam"
   ]
  },
  {
   "cell_type": "code",
   "execution_count": 9,
   "metadata": {},
   "outputs": [
    {
     "data": {
      "text/plain": [
       "'d'"
      ]
     },
     "execution_count": 9,
     "metadata": {},
     "output_type": "execute_result"
    }
   ],
   "source": [
    "#Q3\n",
    "spam=['a', 'b', 'c', 'd']\n",
    "spam[int(int('3' * 2) / 11)]"
   ]
  },
  {
   "cell_type": "code",
   "execution_count": 11,
   "metadata": {},
   "outputs": [
    {
     "data": {
      "text/plain": [
       "'d'"
      ]
     },
     "execution_count": 11,
     "metadata": {},
     "output_type": "execute_result"
    }
   ],
   "source": [
    "#Q4\n",
    "spam[-1]"
   ]
  },
  {
   "cell_type": "code",
   "execution_count": 12,
   "metadata": {},
   "outputs": [
    {
     "data": {
      "text/plain": [
       "['a', 'b']"
      ]
     },
     "execution_count": 12,
     "metadata": {},
     "output_type": "execute_result"
    }
   ],
   "source": [
    "#Q5\n",
    "spam[:2]"
   ]
  },
  {
   "cell_type": "code",
   "execution_count": 19,
   "metadata": {},
   "outputs": [],
   "source": [
    "bacon=[3.14, 'cat', 11, 'cat', True] "
   ]
  },
  {
   "cell_type": "code",
   "execution_count": 20,
   "metadata": {},
   "outputs": [
    {
     "data": {
      "text/plain": [
       "1"
      ]
     },
     "execution_count": 20,
     "metadata": {},
     "output_type": "execute_result"
    }
   ],
   "source": [
    "#Q6\n",
    "bacon.index('cat')"
   ]
  },
  {
   "cell_type": "code",
   "execution_count": 21,
   "metadata": {},
   "outputs": [
    {
     "data": {
      "text/plain": [
       "[3.14, 'cat', 11, 'cat', True, 99]"
      ]
     },
     "execution_count": 21,
     "metadata": {},
     "output_type": "execute_result"
    }
   ],
   "source": [
    "#Q7\n",
    "bacon.append(99) \n",
    "bacon\n",
    "#99 will be concatenated at the end of list"
   ]
  },
  {
   "cell_type": "code",
   "execution_count": 22,
   "metadata": {},
   "outputs": [
    {
     "data": {
      "text/plain": [
       "[3.14, 11, 'cat', True, 99]"
      ]
     },
     "execution_count": 22,
     "metadata": {},
     "output_type": "execute_result"
    }
   ],
   "source": [
    "#Q8\n",
    "bacon.remove('cat') \n",
    "bacon\n",
    "#first 'cat' will be removed"
   ]
  },
  {
   "cell_type": "code",
   "execution_count": 25,
   "metadata": {},
   "outputs": [
    {
     "name": "stdout",
     "output_type": "stream",
     "text": [
      "[1, 2, 3, 4, 5]\n",
      "[1, 2, 3, 1, 2, 3, 1, 2, 3]\n"
     ]
    }
   ],
   "source": [
    "#Q9\n",
    "'+ is operator for list concatenation and * is operator for list replication'\n",
    "l1=[1,2,3]\n",
    "l2=[4,5]\n",
    "\n",
    "print(l1+l2)  #list concatenation\n",
    "\n",
    "print(l1*3)  # list replication"
   ]
  },
  {
   "cell_type": "code",
   "execution_count": 26,
   "metadata": {},
   "outputs": [
    {
     "data": {
      "text/plain": [
       "'append() inserts variable at the end of the list, i.e. at -1 index,\\nwhile by insert() method we can insert variable at any given index'"
      ]
     },
     "execution_count": 26,
     "metadata": {},
     "output_type": "execute_result"
    }
   ],
   "source": [
    "#Q10\n",
    "'''append() inserts variable at the end of the list, i.e. at -1 index,\n",
    "while by insert() method we can insert variable at any given index'''"
   ]
  },
  {
   "cell_type": "code",
   "execution_count": 27,
   "metadata": {},
   "outputs": [
    {
     "data": {
      "text/plain": [
       "'remove()--> through this method we can remove variable of any required index of the list.\\npop()--> removes variable present at the end of list'"
      ]
     },
     "execution_count": 27,
     "metadata": {},
     "output_type": "execute_result"
    }
   ],
   "source": [
    "#Q11\n",
    "'''remove()--> through this method we can remove first occurence of any variable by providing its value.\n",
    "pop()--> removes variable present at the end of list'''"
   ]
  },
  {
   "cell_type": "code",
   "execution_count": null,
   "metadata": {},
   "outputs": [],
   "source": [
    "#Q12\n",
    "'''Similarities between lists and strings:\n",
    "1. both are sequences\n",
    "2. we can extract elements index-wise in both strings and lists\n"
   ]
  },
  {
   "cell_type": "code",
   "execution_count": 49,
   "metadata": {
    "collapsed": true
   },
   "outputs": [
    {
     "data": {
      "text/plain": [
       "\"Differences between lists and tuples: \\n1. Tuples are immutable whereas lists are mutable \\n2. We can't add, replace, reassign, or remove any of the items since tuples can't be changed. Hence, length of tuples is fixed.\\n3. Tuples are great to use when we want the data in our collection to be read-only, to never change, and always remain the same and constant.\\nWhile, Lists are useful when we want our data to be flexible, or not always stay the same, and be modified when needed.\\n\""
      ]
     },
     "execution_count": 49,
     "metadata": {},
     "output_type": "execute_result"
    }
   ],
   "source": [
    "#Q13\n",
    "#tuples vs lists\n",
    "'''Differences between lists and tuples: \n",
    "1. Tuples are immutable whereas lists are mutable \n",
    "2. We can't add, replace, reassign, or remove any of the items since tuples can't be changed. Hence, length of tuples is fixed.\n",
    "3. Tuples are great to use when we want the data in our collection to be read-only, to never change, and always remain the same and constant.\n",
    "While, Lists are useful when we want our data to be flexible, or not always stay the same, and be modified when needed.\n",
    "'''"
   ]
  },
  {
   "cell_type": "code",
   "execution_count": 48,
   "metadata": {},
   "outputs": [
    {
     "name": "stdout",
     "output_type": "stream",
     "text": [
      "<class 'tuple'>\n",
      "<class 'int'>\n"
     ]
    }
   ],
   "source": [
    "#Q14\n",
    "#by applying , next to first element\n",
    "thistuple = (42,)\n",
    "print(type(thistuple))\n",
    "\n",
    "#NOT a tuple\n",
    "thistuple = (42)\n",
    "print(type(thistuple))"
   ]
  },
  {
   "cell_type": "code",
   "execution_count": 39,
   "metadata": {},
   "outputs": [
    {
     "name": "stdout",
     "output_type": "stream",
     "text": [
      "<class 'list'>\n",
      "<class 'tuple'>\n",
      "[4, 5, 6]\n",
      "(1, 2, 3)\n"
     ]
    }
   ],
   "source": [
    "#Q15\n",
    "l=[1,2,3]\n",
    "t=(4,5,6)\n",
    "print(type(l))\n",
    "print(type(t))\n",
    "\n",
    "#we can get list values in tuple form and vice-versa by type conversion\n",
    "\n",
    "print(list(t))  #typle values in list form\n",
    "print(tuple(l)) #list values in tuple form"
   ]
  },
  {
   "cell_type": "code",
   "execution_count": 40,
   "metadata": {},
   "outputs": [
    {
     "data": {
      "text/plain": [
       "([2, 3, 4], {3, 4}, {'a': 1, 'b': 2}, 45.6)"
      ]
     },
     "execution_count": 40,
     "metadata": {},
     "output_type": "execute_result"
    }
   ],
   "source": [
    "#Q16\n",
    "'''Varibles containing list need not be list themselves, they could be set, tuple, dictionaries anything.\n",
    "And instead of just list they can contain int, float, str, bool, or even dictionaries, tuples, lists sets etc.'''\n",
    "\n",
    "#Example\n",
    "t=([2,3,4], {3,3,4}, {'a':1, 'b':2},45.6) #tuple containing list, set, dict, float\n",
    "t"
   ]
  },
  {
   "cell_type": "code",
   "execution_count": 56,
   "metadata": {
    "collapsed": true
   },
   "outputs": [
    {
     "data": {
      "text/plain": [
       "'In shallow copy, we create a new instance of the current object and copy values of members of the original to the new one but do not create copies of children (referenced) objects.\\nThe copy() function only creates a shallow copy of the original list. This means it copies the top level of the list only. If in that list we have more complex data structures having nested elements, then those will not be cloned. So the new list only hold half the reference of the original list.\\n\\nPython deepcopy() function is more subtle as it copies even the nested objects recursively. Although copy.deepcopy() is slightly slower than copy.copy(), it’s safer to use if we don’t know whether the list being copied contains other lists (or other mutable objects like dictionaries or sets).'"
      ]
     },
     "execution_count": 56,
     "metadata": {},
     "output_type": "execute_result"
    }
   ],
   "source": [
    "#Q17\n",
    "#in copying lists by assignment method, id remains same\n",
    "'''In shallow copy, we create a new instance of the current object and copy values of members of the original to the new one but do not create copies of children (referenced) objects.\n",
    "The copy() function only creates a shallow copy of the original list. This means it copies the top level of the list only. If in that list we have more complex data structures having nested elements, then those will not be cloned. So the new list only hold half the reference of the original list.\n",
    "\n",
    "Python deepcopy() function is more subtle as it copies even the nested objects recursively. Although copy.deepcopy() is slightly slower than copy.copy(), it’s safer to use if we don’t know whether the list being copied contains other lists (or other mutable objects like dictionaries or sets).'''"
   ]
  },
  {
   "cell_type": "code",
   "execution_count": 62,
   "metadata": {},
   "outputs": [
    {
     "name": "stdout",
     "output_type": "stream",
     "text": [
      "Appending content to OLD LIST (org)\n",
      "myList content after appending elements:  [{'car': 'maruti'}, 2, 'apple', 'TEST']\n",
      "newList content after appending elements:  [{'car': 'maruti'}, 2, 'apple'] \n",
      "\n",
      "Modifying content in the OLD LIST (org)\n",
      "myList content after modifying elements:  [{'car': 'honda'}, 2, 'apple', 'TEST']\n",
      "newList content after modifying elements:  [{'car': 'honda'}, 2, 'apple'] \n",
      "\n",
      "Both the lists have different id!\n"
     ]
    }
   ],
   "source": [
    "#Example of copy.copy()\n",
    "\n",
    "import copy\n",
    "\n",
    "org = [{'car': 'maruti'}, 2, 'apple']\n",
    "#new = org[:]\n",
    "new=copy.copy(org)\n",
    "\n",
    "print('Appending content to OLD LIST (org)')\n",
    "org.append('TEST')\n",
    "\n",
    "print('myList content after appending elements: ', org)\n",
    "print('newList content after appending elements: ', new, \"\\n\")\n",
    "\n",
    "# Modifying elements in the old list\n",
    "print('Modifying content in the OLD LIST (org)')\n",
    "org[0]['car']='honda'\n",
    "\n",
    "print('myList content after modifying elements: ', org)\n",
    "print('newList content after modifying elements: ', new, \"\\n\")\n",
    "\n",
    "if id(org) == id(new):\n",
    "    print('Both the lists have same id!')\n",
    "else:\n",
    "    print('Both the lists have different id!')\n",
    "    \n",
    "#changes in nested parts are reflected in new list also "
   ]
  },
  {
   "cell_type": "code",
   "execution_count": 61,
   "metadata": {},
   "outputs": [
    {
     "name": "stdout",
     "output_type": "stream",
     "text": [
      "Appending content to OLD LIST (org)\n",
      "myList content after appending elements:  [{'car': 'maruti'}, 2, 'apple', 'TEST']\n",
      "newList content after appending elements:  [{'car': 'maruti'}, 2, 'apple'] \n",
      "\n",
      "Modifying content in the OLD LIST (org)\n",
      "myList content after modifying elements:  [{'car': 'honda'}, 2, 'apple', 'TEST']\n",
      "newList content after modifying elements:  [{'car': 'maruti'}, 2, 'apple'] \n",
      "\n",
      "Both the lists have different id!\n"
     ]
    }
   ],
   "source": [
    "#Example of copy.deepcopy()\n",
    "\n",
    "import copy\n",
    "\n",
    "org = [{'car': 'maruti'}, 2, 'apple']\n",
    "new = copy.deepcopy(org)\n",
    "\n",
    "print('Appending content to OLD LIST (org)')\n",
    "org.append('TEST')\n",
    "\n",
    "print('myList content after appending elements: ', org)\n",
    "print('newList content after appending elements: ', new, \"\\n\")\n",
    "\n",
    "# Modifying elements in the old list\n",
    "print('Modifying content in the OLD LIST (org)')\n",
    "org[0]['car']='honda'\n",
    "\n",
    "print('myList content after modifying elements: ', org)\n",
    "print('newList content after modifying elements: ', new, \"\\n\")\n",
    "\n",
    "if id(org) == id(new):\n",
    "    print('Both the lists have same id!')\n",
    "else:\n",
    "    print('Both the lists have different id!')\n",
    "    \n",
    "#changes in nested parts are reflected in new list also "
   ]
  },
  {
   "cell_type": "code",
   "execution_count": null,
   "metadata": {},
   "outputs": [],
   "source": []
  }
 ],
 "metadata": {
  "kernelspec": {
   "display_name": "Python 3",
   "language": "python",
   "name": "python3"
  },
  "language_info": {
   "codemirror_mode": {
    "name": "ipython",
    "version": 3
   },
   "file_extension": ".py",
   "mimetype": "text/x-python",
   "name": "python",
   "nbconvert_exporter": "python",
   "pygments_lexer": "ipython3",
   "version": "3.7.1"
  }
 },
 "nbformat": 4,
 "nbformat_minor": 2
}
