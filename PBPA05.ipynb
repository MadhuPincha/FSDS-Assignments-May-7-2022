{
 "cells": [
  {
   "cell_type": "markdown",
   "metadata": {},
   "source": [
    "1. Write a Python Program to Find LCM?\n",
    "2. Write a Python Program to Find HCF?\n",
    "3. Write a Python Program to Convert Decimal to Binary, Octal and Hexadecimal?\n",
    "4. Write a Python Program To Find ASCII value of a character?\n",
    "5. Write a Python Program to Make a Simple Calculator with 4 basic mathematical operations?"
   ]
  },
  {
   "cell_type": "code",
   "execution_count": 3,
   "metadata": {},
   "outputs": [
    {
     "name": "stdout",
     "output_type": "stream",
     "text": [
      "12 18\n",
      "36\n"
     ]
    }
   ],
   "source": [
    "#ANSWER 1\n",
    "a,b=map(int, input().split())\n",
    "i=max(a,b)\n",
    "while(True):\n",
    "    if(i%a==0 and i%b==0):\n",
    "        print(i)\n",
    "        break\n",
    "    else:\n",
    "        i+=1\n",
    "    "
   ]
  },
  {
   "cell_type": "code",
   "execution_count": 5,
   "metadata": {},
   "outputs": [
    {
     "name": "stdout",
     "output_type": "stream",
     "text": [
      "12 18\n",
      "6\n"
     ]
    }
   ],
   "source": [
    "#ANSWER 2\n",
    "a,b=map(int, input().split())\n",
    "i=min(a,b)\n",
    "while(i>=1):\n",
    "    if(a%i==0 and b%i==0):\n",
    "        print(i)\n",
    "        break\n",
    "    else:\n",
    "        i-=1\n",
    "    "
   ]
  },
  {
   "cell_type": "code",
   "execution_count": 19,
   "metadata": {},
   "outputs": [
    {
     "name": "stdout",
     "output_type": "stream",
     "text": [
      "Enter a number in decimal form 4\n",
      "Decimal to binary =  0b100\n",
      "Decimal to octal =  0o4\n",
      "Decimal to hexadecimal =  0x4\n"
     ]
    }
   ],
   "source": [
    "#ANSWER 3\n",
    "d=int(input('Enter a number in decimal form '))\n",
    "print(\"Decimal to binary = \",bin(d))\n",
    "print(\"Decimal to octal = \",oct(d))\n",
    "print(\"Decimal to hexadecimal = \",hex(d))"
   ]
  },
  {
   "cell_type": "code",
   "execution_count": 18,
   "metadata": {},
   "outputs": [
    {
     "name": "stdout",
     "output_type": "stream",
     "text": [
      "Enter any character 4\n"
     ]
    },
    {
     "data": {
      "text/plain": [
       "52"
      ]
     },
     "execution_count": 18,
     "metadata": {},
     "output_type": "execute_result"
    }
   ],
   "source": [
    "#ANSWER 4\n",
    "#ord()\n",
    "c=input('Enter any character ')\n",
    "ord(c)"
   ]
  },
  {
   "cell_type": "code",
   "execution_count": 6,
   "metadata": {},
   "outputs": [
    {
     "name": "stdout",
     "output_type": "stream",
     "text": [
      "CHOOSE a number: \n",
      " 1. Addition, 2. Subtraction, 3. Multiplication, 4. Divison 4\n",
      "34 17\n",
      "2.0\n"
     ]
    }
   ],
   "source": [
    "#ANSWER 5\n",
    "n=int(input('CHOOSE a number: \\n 1. Addition, 2. Subtraction, 3. Multiplication, 4. Divison '))\n",
    "a,b=map(int, input().split())\n",
    "\n",
    "def add(a,b):\n",
    "    return(a+b)\n",
    "def sub(a,b):\n",
    "    return(a-b)\n",
    "def mul(a,b):\n",
    "    return(a*b)\n",
    "def div(a,b):\n",
    "    return(a/b)\n",
    "\n",
    "if(n==1):\n",
    "    ans=add(a,b)\n",
    "    print(ans)\n",
    "elif(n==2):\n",
    "    ans=sub(a,b)\n",
    "    print(ans)\n",
    "elif(n==3):\n",
    "    ans=mul(a,b)\n",
    "    print(ans)\n",
    "else:\n",
    "    ans=div(a,b)\n",
    "    print(ans)"
   ]
  },
  {
   "cell_type": "code",
   "execution_count": null,
   "metadata": {},
   "outputs": [],
   "source": []
  }
 ],
 "metadata": {
  "kernelspec": {
   "display_name": "Python 3",
   "language": "python",
   "name": "python3"
  },
  "language_info": {
   "codemirror_mode": {
    "name": "ipython",
    "version": 3
   },
   "file_extension": ".py",
   "mimetype": "text/x-python",
   "name": "python",
   "nbconvert_exporter": "python",
   "pygments_lexer": "ipython3",
   "version": "3.7.1"
  }
 },
 "nbformat": 4,
 "nbformat_minor": 2
}
