{
 "cells": [
  {
   "cell_type": "markdown",
   "metadata": {},
   "source": [
    "**QUESTION 1:** Create a function that takes a number as an argument and returns True or False depending\n",
    "on whether the number is symmetrical or not. A number is symmetrical when it is the same as\n",
    "its reverse."
   ]
  },
  {
   "cell_type": "code",
   "execution_count": 2,
   "metadata": {},
   "outputs": [
    {
     "data": {
      "text/plain": [
       "True"
      ]
     },
     "execution_count": 2,
     "metadata": {},
     "output_type": "execute_result"
    }
   ],
   "source": [
    "#palindrome\n",
    "def is_symmetrical(n):\n",
    "    #n=input('Enter a number ')\n",
    "    n=str(n)\n",
    "    for i in range(round(len(n)/2)):\n",
    "        if(n[i]==n[-(i+1)]):\n",
    "            continue\n",
    "        else:\n",
    "            return(False)\n",
    "            break\n",
    "    else:   #if for loop completes itself\n",
    "        return(True)\n",
    "is_symmetrical(12321)"
   ]
  },
  {
   "cell_type": "markdown",
   "metadata": {},
   "source": [
    "**QUESTION 2:** Given a string of numbers separated by a comma and space, return the product of the\n",
    "numbers."
   ]
  },
  {
   "cell_type": "code",
   "execution_count": 3,
   "metadata": {},
   "outputs": [
    {
     "data": {
      "text/plain": [
       "6"
      ]
     },
     "execution_count": 3,
     "metadata": {},
     "output_type": "execute_result"
    }
   ],
   "source": [
    "def multiply_nums(s):\n",
    "    #s=input('Enter string of number in , format')\n",
    "    mul=1\n",
    "    for i in s.split(', '):\n",
    "        mul=mul*int(i)\n",
    "    return(mul)\n",
    "multiply_nums(\"2, 3\")"
   ]
  },
  {
   "cell_type": "markdown",
   "metadata": {},
   "source": [
    "**QUESTION 3:** Create a function that squares every digit of a number."
   ]
  },
  {
   "cell_type": "code",
   "execution_count": 4,
   "metadata": {},
   "outputs": [
    {
     "name": "stdout",
     "output_type": "stream",
     "text": [
      "818181"
     ]
    }
   ],
   "source": [
    "def square_digits(n):\n",
    "    #n=input('Enter a number ')\n",
    "    n=str(n)\n",
    "    for i in n:\n",
    "        print(int(i)*int(i), end='')\n",
    "square_digits(999)"
   ]
  },
  {
   "cell_type": "markdown",
   "metadata": {},
   "source": [
    "**QUESTION 4:** Create a function that sorts a list and removes all duplicate items from it."
   ]
  },
  {
   "cell_type": "code",
   "execution_count": 5,
   "metadata": {},
   "outputs": [
    {
     "data": {
      "text/plain": [
       "[1, 2, 3, 4]"
      ]
     },
     "execution_count": 5,
     "metadata": {},
     "output_type": "execute_result"
    }
   ],
   "source": [
    "def setify(l):\n",
    "    #print('Enter a list ')\n",
    "    #l=list(map(int, input().split(',')))\n",
    "    l.sort()\n",
    "    l=set(l)\n",
    "    return(list(l))\n",
    "setify([1,3,2,2,4,2])"
   ]
  },
  {
   "cell_type": "markdown",
   "metadata": {},
   "source": [
    "**QUESTION 5:** Create a function that returns the mean of all digits."
   ]
  },
  {
   "cell_type": "code",
   "execution_count": 6,
   "metadata": {},
   "outputs": [
    {
     "data": {
      "text/plain": [
       "3"
      ]
     },
     "execution_count": 6,
     "metadata": {},
     "output_type": "execute_result"
    }
   ],
   "source": [
    "#mean\n",
    "def mean(n):\n",
    "    #n=input('Enter a number ')\n",
    "    n=str(n)\n",
    "    sum=0\n",
    "    for i in n:\n",
    "        sum=sum+int(i)\n",
    "    return(int(sum/len(n)))\n",
    "mean(12345)"
   ]
  },
  {
   "cell_type": "code",
   "execution_count": null,
   "metadata": {},
   "outputs": [],
   "source": []
  }
 ],
 "metadata": {
  "kernelspec": {
   "display_name": "Python 3",
   "language": "python",
   "name": "python3"
  },
  "language_info": {
   "codemirror_mode": {
    "name": "ipython",
    "version": 3
   },
   "file_extension": ".py",
   "mimetype": "text/x-python",
   "name": "python",
   "nbconvert_exporter": "python",
   "pygments_lexer": "ipython3",
   "version": "3.7.1"
  }
 },
 "nbformat": 4,
 "nbformat_minor": 2
}
