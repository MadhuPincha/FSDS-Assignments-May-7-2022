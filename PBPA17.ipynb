{
 "cells": [
  {
   "cell_type": "markdown",
   "metadata": {},
   "source": [
    "**Question1.**\n",
    "Create a function that takes three arguments a, b, c and returns the sum of the\n",
    "numbers that are evenly divided by c from the range a, b inclusive."
   ]
  },
  {
   "cell_type": "code",
   "execution_count": 96,
   "metadata": {},
   "outputs": [
    {
     "data": {
      "text/plain": [
       "18"
      ]
     },
     "execution_count": 96,
     "metadata": {},
     "output_type": "execute_result"
    }
   ],
   "source": [
    "def evenly_divisible(a,b,c):\n",
    "    sum=0\n",
    "    for i in range(a,b+1):\n",
    "        if(i%c==0):\n",
    "            sum=sum+i\n",
    "    return(sum)\n",
    "#test cases\n",
    "evenly_divisible(1, 10, 20)\n",
    "evenly_divisible(1, 10, 2)\n",
    "evenly_divisible(1, 10, 3)"
   ]
  },
  {
   "cell_type": "markdown",
   "metadata": {},
   "source": [
    "**Question2.**\n",
    "Create a function that returns True if a given inequality expression is correct and\n",
    "False otherwise."
   ]
  },
  {
   "cell_type": "code",
   "execution_count": 1,
   "metadata": {},
   "outputs": [
    {
     "data": {
      "text/plain": [
       "True"
      ]
     },
     "execution_count": 1,
     "metadata": {},
     "output_type": "execute_result"
    }
   ],
   "source": [
    "'''True and True\n",
    "True and False\n",
    "False and True\n",
    "False and False'''\n",
    "\n",
    "def correct_signs(s):\n",
    "    s=s.split()\n",
    "    val=True\n",
    "    for i in range(0,len(s)-2,2):\n",
    "        if(s[i+1]=='<'):\n",
    "            #print(s[i],s[i+1],s[i+2])\n",
    "            v=(int(s[i])<int(s[i+2]))\n",
    "            #print(v)\n",
    "            val = val and v\n",
    "        else:\n",
    "            #print(s[i],s[i+1],s[i+2])\n",
    "            v=(int(s[i])>int(s[i+2]))\n",
    "            #print(v)\n",
    "            val = val and v\n",
    "    return(val)\n",
    "#test cases\n",
    "correct_signs(\"3 < 7 < 11\")       \n",
    "correct_signs(\"13 > 44 > 33 > 1\")\n",
    "correct_signs(\"1 < 2 < 6 < 9 > 3\")"
   ]
  },
  {
   "cell_type": "markdown",
   "metadata": {},
   "source": [
    "**Question3.** Create a function that replaces all the vowels in a string with a specified character."
   ]
  },
  {
   "cell_type": "code",
   "execution_count": 99,
   "metadata": {},
   "outputs": [
    {
     "data": {
      "text/plain": [
       "'sh*k*sp**r*'"
      ]
     },
     "execution_count": 99,
     "metadata": {},
     "output_type": "execute_result"
    }
   ],
   "source": [
    "def replace_vowels(string, special_ch):\n",
    "    vowels=['a','e','i','o','u']\n",
    "    for i in string:\n",
    "        if(i in vowels):\n",
    "            string=string.replace(i,special_ch)\n",
    "    return(string)\n",
    "#test cases\n",
    "replace_vowels('midhu', '*')\n",
    "replace_vowels('the aardvark', '#')\n",
    "replace_vowels('minnie mouse', '?')\n",
    "replace_vowels('shakespeare', '*')"
   ]
  },
  {
   "cell_type": "markdown",
   "metadata": {},
   "source": [
    "**Question4.**\n",
    "Write a function that calculates the factorial of a number recursively."
   ]
  },
  {
   "cell_type": "code",
   "execution_count": 100,
   "metadata": {},
   "outputs": [
    {
     "data": {
      "text/plain": [
       "1"
      ]
     },
     "execution_count": 100,
     "metadata": {},
     "output_type": "execute_result"
    }
   ],
   "source": [
    "def factorial(n):\n",
    "    if(n==1 or n==0):\n",
    "        return(1)\n",
    "    return(n*factorial(n-1))\n",
    "#test cases\n",
    "factorial(5)\n",
    "factorial(3)\n",
    "factorial(1)\n",
    "factorial(0)"
   ]
  },
  {
   "cell_type": "markdown",
   "metadata": {},
   "source": [
    "**Question 5**\n",
    "\n",
    "Hamming distance is the number of characters that differ between two strings.\n",
    "To illustrate:\n",
    "\n",
    "String1: &quot;abcbba&quot;\n",
    "String2: &quot;abcbda&quot;\n",
    "\n",
    "Hamming Distance: 1 - &quot;b&quot; vs. &quot;d&quot; is the only difference.\n",
    "\n",
    "Create a function that computes the hamming distance between two strings.**"
   ]
  },
  {
   "cell_type": "code",
   "execution_count": 21,
   "metadata": {},
   "outputs": [
    {
     "data": {
      "text/plain": [
       "1"
      ]
     },
     "execution_count": 21,
     "metadata": {},
     "output_type": "execute_result"
    }
   ],
   "source": [
    "def hamming_distance(str1, str2):\n",
    "    count=0\n",
    "    for i in range(len(str1)): #length of both strings should be same\n",
    "        if(str1[i]!=str2[i]):\n",
    "            count+=1\n",
    "    return(count)\n",
    "#test cases\n",
    "hamming_distance('abcde', 'bcdef')\n",
    "hamming_distance('abcde', 'abcde')\n",
    "hamming_distance('strong', 'strung')"
   ]
  },
  {
   "cell_type": "code",
   "execution_count": null,
   "metadata": {},
   "outputs": [],
   "source": []
  }
 ],
 "metadata": {
  "kernelspec": {
   "display_name": "Python 3",
   "language": "python",
   "name": "python3"
  },
  "language_info": {
   "codemirror_mode": {
    "name": "ipython",
    "version": 3
   },
   "file_extension": ".py",
   "mimetype": "text/x-python",
   "name": "python",
   "nbconvert_exporter": "python",
   "pygments_lexer": "ipython3",
   "version": "3.7.1"
  }
 },
 "nbformat": 4,
 "nbformat_minor": 2
}
