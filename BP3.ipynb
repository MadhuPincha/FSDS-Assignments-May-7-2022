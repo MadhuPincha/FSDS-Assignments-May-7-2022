{
 "cells": [
  {
   "cell_type": "code",
   "execution_count": 1,
   "metadata": {
    "collapsed": true
   },
   "outputs": [
    {
     "data": {
      "text/plain": [
       "'Advantages of having function in a program :\\n1. reduces duplicacy of code, as whenever we need to perform some task, we may call same function again and again rather than writing huge number of lines of code.\\n2. in case we need to perform just some specific task, we can do it by executing just that function, no need to execute whole code\\n3. increses readability, as program is divided into modules, it becomes easy to understand\\n4. easy to detect error in some particular block rather than going through whole code\\n5. same task can be performed using different parameters whenever required'"
      ]
     },
     "execution_count": 1,
     "metadata": {},
     "output_type": "execute_result"
    }
   ],
   "source": [
    "#Q1\n",
    "'''Advantages of having function in a program :\n",
    "1. reduces duplicacy of code, as whenever we need to perform some task, we may call same function again and again rather than writing huge number of lines of code.\n",
    "2. in case we need to perform just some specific task, we can do it by executing just that function, no need to execute whole code\n",
    "3. increses readability, as program is divided into modules, it becomes easy to understand\n",
    "4. easy to detect error in some particular block rather than going through whole code\n",
    "5. same task can be performed using different parameters whenever required'''"
   ]
  },
  {
   "cell_type": "code",
   "execution_count": 2,
   "metadata": {},
   "outputs": [
    {
     "data": {
      "text/plain": [
       "'Code inside the function runs when it is called'"
      ]
     },
     "execution_count": 2,
     "metadata": {},
     "output_type": "execute_result"
    }
   ],
   "source": [
    "#Q2\n",
    "'''Code inside the function runs when it is called'''"
   ]
  },
  {
   "cell_type": "code",
   "execution_count": 4,
   "metadata": {},
   "outputs": [],
   "source": [
    "#Q3\n",
    "#def creates a function\n",
    "def function_name():\n",
    "    pass"
   ]
  },
  {
   "cell_type": "code",
   "execution_count": 5,
   "metadata": {},
   "outputs": [
    {
     "data": {
      "text/plain": [
       "'A function is procedure to achieve a particular result while function call is using this function to achive that task.'"
      ]
     },
     "execution_count": 5,
     "metadata": {},
     "output_type": "execute_result"
    }
   ],
   "source": [
    "#Q4\n",
    "'''A function is procedure to achieve a particular result while function call is using this function to achive that task.'''"
   ]
  },
  {
   "cell_type": "code",
   "execution_count": 6,
   "metadata": {},
   "outputs": [
    {
     "data": {
      "text/plain": [
       "'one global scope and local scopes can be of any number'"
      ]
     },
     "execution_count": 6,
     "metadata": {},
     "output_type": "execute_result"
    }
   ],
   "source": [
    "#Q5\n",
    "'''one global scope and local scopes can be of any number'''"
   ]
  },
  {
   "cell_type": "code",
   "execution_count": 7,
   "metadata": {},
   "outputs": [
    {
     "data": {
      "text/plain": [
       "'When the execution of the function terminates (returns), the local variables are destroyed. '"
      ]
     },
     "execution_count": 7,
     "metadata": {},
     "output_type": "execute_result"
    }
   ],
   "source": [
    "#Q6\n",
    "'''When the execution of the function terminates (returns), the local variables are destroyed. '''"
   ]
  },
  {
   "cell_type": "code",
   "execution_count": 18,
   "metadata": {},
   "outputs": [
    {
     "data": {
      "text/plain": [
       "\"A return statement is used to end the execution of the function call and “returns” the result (value of the expression following the return keyword) to the caller. The statements after the return statements are not executed. If the return statement is without any expression, then the special value None is returned. \\nNote: Return statement can not be used outside the function.\\n\\nSince return_42() returns a numeric value, you can use that value in a math expression or any other kind of expression in which the value has a logical or coherent meaning. This is how a caller code can take advantage of a function's return value. \""
      ]
     },
     "execution_count": 18,
     "metadata": {},
     "output_type": "execute_result"
    }
   ],
   "source": [
    "#Q7\n",
    "'''A return statement is used to end the execution of the function call and “returns” the result (value of the expression following the return keyword) to the caller. The statements after the return statements are not executed. If the return statement is without any expression, then the special value None is returned. \n",
    "Note: Return statement can not be used outside the function.\n",
    "\n",
    "Since return_42() returns a numeric value, you can use that value in a math expression or any other kind of expression in which the value has a logical or coherent meaning. This is how a caller code can take advantage of a function's return value. '''"
   ]
  },
  {
   "cell_type": "code",
   "execution_count": 19,
   "metadata": {},
   "outputs": [
    {
     "data": {
      "text/plain": [
       "'None'"
      ]
     },
     "execution_count": 19,
     "metadata": {},
     "output_type": "execute_result"
    }
   ],
   "source": [
    "#Q8\n",
    "'''None'''"
   ]
  },
  {
   "cell_type": "code",
   "execution_count": 20,
   "metadata": {},
   "outputs": [],
   "source": [
    "#Q9\n",
    "'''Variables that are created outside of a function are known as global variables.\n",
    "Global variables can be used both inside of functions and outside.'''"
   ]
  },
  {
   "cell_type": "code",
   "execution_count": 34,
   "metadata": {},
   "outputs": [
    {
     "name": "stdout",
     "output_type": "stream",
     "text": [
      "gloabal\n"
     ]
    },
    {
     "data": {
      "text/plain": [
       "'local'"
      ]
     },
     "execution_count": 34,
     "metadata": {},
     "output_type": "execute_result"
    }
   ],
   "source": [
    "#Example\n",
    "x='gloabal'\n",
    "def glo_loc():\n",
    "    x='local'\n",
    "    return(x)\n",
    "print(x)\n",
    "glo_loc()\n"
   ]
  },
  {
   "cell_type": "code",
   "execution_count": 31,
   "metadata": {},
   "outputs": [
    {
     "data": {
      "text/plain": [
       "NoneType"
      ]
     },
     "execution_count": 31,
     "metadata": {},
     "output_type": "execute_result"
    }
   ],
   "source": [
    "#Q10\n",
    "#NoneType\n",
    "type(None)"
   ]
  },
  {
   "cell_type": "code",
   "execution_count": 29,
   "metadata": {},
   "outputs": [
    {
     "data": {
      "text/plain": [
       "\" 'import areallyourpetsnamederic' imports module named  areallyourpetsnamederic \""
      ]
     },
     "execution_count": 29,
     "metadata": {},
     "output_type": "execute_result"
    }
   ],
   "source": [
    "#Q11\n",
    "''' 'import areallyourpetsnamederic' imports module named  areallyourpetsnamederic '''"
   ]
  },
  {
   "cell_type": "code",
   "execution_count": 23,
   "metadata": {},
   "outputs": [],
   "source": [
    "#Q12\n",
    "import spam\n",
    "spam.bacon()"
   ]
  },
  {
   "cell_type": "code",
   "execution_count": 27,
   "metadata": {},
   "outputs": [
    {
     "data": {
      "text/plain": [
       "'We can use exception handling(try, except) to save a programme from crashing if it encounters an error'"
      ]
     },
     "execution_count": 27,
     "metadata": {},
     "output_type": "execute_result"
    }
   ],
   "source": [
    "#Q13\n",
    "'''We can use exception handling(try, except) to save a programme from crashing if it encounters an error'''"
   ]
  },
  {
   "cell_type": "code",
   "execution_count": 25,
   "metadata": {},
   "outputs": [
    {
     "data": {
      "text/plain": [
       "\"When an error occurs in our program, or exception as we call it, Python will normally stop and generate an error message.\\nAs a result of it, we can't execute our program further.\\nThese exceptions can be handled using the try and except statements\\n\\nThe try block lets us test a block of code for errors.\\n\\nThe except block lets us handle the error.\""
      ]
     },
     "execution_count": 25,
     "metadata": {},
     "output_type": "execute_result"
    }
   ],
   "source": [
    "#Q14\n",
    "#try and except\n",
    "'''When an error occurs in our program, or exception as we call it, Python will normally stop and generate an error message.\n",
    "As a result of it, we can't execute our program further.\n",
    "These exceptions can be handled using the try and except statements\n",
    "\n",
    "The try block lets us test a block of code for errors.\n",
    "\n",
    "The except block lets us handle the error.'''"
   ]
  },
  {
   "cell_type": "code",
   "execution_count": 26,
   "metadata": {},
   "outputs": [
    {
     "name": "stdout",
     "output_type": "stream",
     "text": [
      "name 'a' is not defined\n"
     ]
    }
   ],
   "source": [
    "#Example\n",
    "try:\n",
    "    print(a)\n",
    "except Exception as e:\n",
    "    print(e)"
   ]
  },
  {
   "cell_type": "code",
   "execution_count": null,
   "metadata": {},
   "outputs": [],
   "source": []
  }
 ],
 "metadata": {
  "kernelspec": {
   "display_name": "Python 3",
   "language": "python",
   "name": "python3"
  },
  "language_info": {
   "codemirror_mode": {
    "name": "ipython",
    "version": 3
   },
   "file_extension": ".py",
   "mimetype": "text/x-python",
   "name": "python",
   "nbconvert_exporter": "python",
   "pygments_lexer": "ipython3",
   "version": "3.7.1"
  }
 },
 "nbformat": 4,
 "nbformat_minor": 2
}
