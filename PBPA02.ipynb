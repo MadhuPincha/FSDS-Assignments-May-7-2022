{
 "cells": [
  {
   "cell_type": "markdown",
   "metadata": {},
   "source": [
    "1. Write a Python program to convert kilometers to miles?\n",
    "2. Write a Python program to convert Celsius to Fahrenheit?\n",
    "3. Write a Python program to display calendar?\n",
    "4. Write a Python program to solve quadratic equation?\n",
    "5. Write a Python program to swap two variables without temp variable?"
   ]
  },
  {
   "cell_type": "code",
   "execution_count": 1,
   "metadata": {},
   "outputs": [
    {
     "name": "stdout",
     "output_type": "stream",
     "text": [
      "Entre value in Kilometer 3\n",
      "1.863  miles\n"
     ]
    }
   ],
   "source": [
    "#ANSWER 1\n",
    "#1 km=0.621 miles\n",
    "km=int(input('Entre value in Kilometer '))\n",
    "miles=0.621*km\n",
    "print(miles,' miles')"
   ]
  },
  {
   "cell_type": "code",
   "execution_count": 2,
   "metadata": {},
   "outputs": [
    {
     "name": "stdout",
     "output_type": "stream",
     "text": [
      "Entre value in  Celcius 25\n",
      "77.0 F\n"
     ]
    }
   ],
   "source": [
    "#ANSWER 2\n",
    "#F=C(9/5)+32\n",
    "C=int(input('Entre value in  Celcius '))\n",
    "F=C*(9/5)+32\n",
    "print(F, 'F')"
   ]
  },
  {
   "cell_type": "code",
   "execution_count": 6,
   "metadata": {},
   "outputs": [
    {
     "name": "stdout",
     "output_type": "stream",
     "text": [
      "Enter year 2022\n",
      "Enter month 5\n",
      "      May 2022\n",
      "Mo Tu We Th Fr Sa Su\n",
      "                   1\n",
      " 2  3  4  5  6  7  8\n",
      " 9 10 11 12 13 14 15\n",
      "16 17 18 19 20 21 22\n",
      "23 24 25 26 27 28 29\n",
      "30 31\n",
      "\n"
     ]
    }
   ],
   "source": [
    "#ANSWER 3\n",
    "#calendar module\n",
    "import calendar\n",
    "yy=int(input(\"Enter year \"))\n",
    "mm=int(input('Enter month '))\n",
    "#display calendar\n",
    "print(calendar.month(yy,mm))"
   ]
  },
  {
   "cell_type": "code",
   "execution_count": 1,
   "metadata": {},
   "outputs": [
    {
     "name": "stdout",
     "output_type": "stream",
     "text": [
      "Enter coefficients 1 5 6\n",
      "Roots are -2.0 and -3.0\n"
     ]
    }
   ],
   "source": [
    "#ANSWER 4\n",
    "#quadratic equation\n",
    "a,b,c=map(int, input('Enter coefficients ').split())\n",
    "D=(b**2-4*a*c)**(1/2)\n",
    "x,y=(-b+D)/(2*a),(-b-D)/(2*a)\n",
    "print('Roots are {} and {}'.format(x,y))"
   ]
  },
  {
   "cell_type": "code",
   "execution_count": 5,
   "metadata": {},
   "outputs": [
    {
     "name": "stdout",
     "output_type": "stream",
     "text": [
      "23 12\n",
      "Values before swapping are 23 and 12\n",
      "Values after swapping are 12 and 23\n"
     ]
    }
   ],
   "source": [
    "#ANSWER 5\n",
    "#swap\n",
    "a,b=map(int, input().split())\n",
    "print('Values before swapping are {} and {}'.format(a,b))\n",
    "a,b=b,a\n",
    "print('Values after swapping are {} and {}'.format(a,b))"
   ]
  },
  {
   "cell_type": "code",
   "execution_count": null,
   "metadata": {},
   "outputs": [],
   "source": []
  }
 ],
 "metadata": {
  "kernelspec": {
   "display_name": "Python 3",
   "language": "python",
   "name": "python3"
  },
  "language_info": {
   "codemirror_mode": {
    "name": "ipython",
    "version": 3
   },
   "file_extension": ".py",
   "mimetype": "text/x-python",
   "name": "python",
   "nbconvert_exporter": "python",
   "pygments_lexer": "ipython3",
   "version": "3.7.1"
  }
 },
 "nbformat": 4,
 "nbformat_minor": 2
}
