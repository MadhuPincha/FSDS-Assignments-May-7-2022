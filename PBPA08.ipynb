{
 "cells": [
  {
   "cell_type": "markdown",
   "metadata": {},
   "source": [
    "1. Write a Python Program to Add Two Matrices?\n",
    "2. Write a Python Program to Multiply Two Matrices?\n",
    "3. Write a Python Program to Transpose a Matrix?\n",
    "4. Write a Python Program to Sort Words in Alphabetic Order?\n",
    "5. Write a Python Program to Remove Punctuation From a String?"
   ]
  },
  {
   "cell_type": "code",
   "execution_count": 2,
   "metadata": {},
   "outputs": [
    {
     "name": "stdout",
     "output_type": "stream",
     "text": [
      "[2, 4, 6]\n",
      "[8, 10, 12]\n",
      "[14, 16, 18]\n"
     ]
    }
   ],
   "source": [
    "#Answer 1\n",
    "\n",
    "X=[[1,2,3],\n",
    "   [4,5,6],\n",
    "   [7,8,9]]\n",
    "Y=[[1,2,3],\n",
    "   [4,5,6],\n",
    "   [7,8,9]]\n",
    "#list comprehenssion\n",
    "add=[[X[i][j]+Y[i][j] for j in range(3)] for i in range(3)]\n",
    "for i in add:\n",
    "    print(i)"
   ]
  },
  {
   "cell_type": "code",
   "execution_count": 4,
   "metadata": {},
   "outputs": [
    {
     "name": "stdout",
     "output_type": "stream",
     "text": [
      "[114, 160, 60, 27]\n",
      "[74, 97, 73, 14]\n",
      "[119, 157, 112, 23]\n"
     ]
    }
   ],
   "source": [
    "#Answer 2\n",
    "\n",
    "#3*3\n",
    "X=[[12,7,3],\n",
    "   [4,5,6],\n",
    "   [7,8,9]]\n",
    "#3*4\n",
    "Y=[[5,8,1,2],\n",
    "   [6,7,3,0],\n",
    "   [4,5,9,1]]\n",
    "\n",
    "#3*4\n",
    "sum=[[0,0,0,0],\n",
    "     [0,0,0,0],\n",
    "     [0,0,0,0]]\n",
    "\n",
    "#rows\n",
    "for i in range(3):\n",
    "    #columns\n",
    "    for j in range(4):\n",
    "        for k in range(3):\n",
    "            sum[i][j]+=X[i][k]*Y[k][j]\n",
    "\n",
    "for i in sum:\n",
    "    print(i)"
   ]
  },
  {
   "cell_type": "code",
   "execution_count": 16,
   "metadata": {},
   "outputs": [
    {
     "name": "stdout",
     "output_type": "stream",
     "text": [
      "[12, 4, 7]\n",
      "[7, 5, 8]\n",
      "[3, 6, 9]\n",
      "[0, 0, 0]\n"
     ]
    }
   ],
   "source": [
    "#Answer 3\n",
    "\n",
    "#3*4\n",
    "x=[[5,8,1,2],\n",
    "   [6,7,3,0],\n",
    "   [4,5,9,1]]\n",
    "\n",
    "#4*3\n",
    "Y=[[0,0,0],\n",
    "   [0,0,0],\n",
    "   [0,0,0],\n",
    "   [0,0,0]]\n",
    "\n",
    "for i in range(3):\n",
    "    for j in range(3):\n",
    "        Y[j][i]=X[i][j]\n",
    "        \n",
    "#transpose\n",
    "for s in Y:\n",
    "    print(s)\n"
   ]
  },
  {
   "cell_type": "code",
   "execution_count": 27,
   "metadata": {},
   "outputs": [
    {
     "name": "stdout",
     "output_type": "stream",
     "text": [
      "wefew dwe\n",
      "dwe wefew "
     ]
    }
   ],
   "source": [
    "#Answer 4\n",
    "\n",
    "s=list(map(str, input().split()))\n",
    "s.sort()\n",
    "for i in s:\n",
    "    print(i, end=' ')"
   ]
  },
  {
   "cell_type": "code",
   "execution_count": 34,
   "metadata": {},
   "outputs": [
    {
     "name": "stdout",
     "output_type": "stream",
     "text": [
      "Enter string \n",
      "#@ nf^^ kj*jk\n",
      "nfkjjk\n"
     ]
    }
   ],
   "source": [
    "#Answer 5\n",
    "\n",
    "#remove punctuation from string\n",
    "s=input('Enter string \\n')\n",
    "for i in s:\n",
    "    if(not(i.isalnum())):\n",
    "        s=s.replace(i,'')\n",
    "print(s)"
   ]
  },
  {
   "cell_type": "code",
   "execution_count": null,
   "metadata": {},
   "outputs": [],
   "source": []
  }
 ],
 "metadata": {
  "kernelspec": {
   "display_name": "Python 3",
   "language": "python",
   "name": "python3"
  },
  "language_info": {
   "codemirror_mode": {
    "name": "ipython",
    "version": 3
   },
   "file_extension": ".py",
   "mimetype": "text/x-python",
   "name": "python",
   "nbconvert_exporter": "python",
   "pygments_lexer": "ipython3",
   "version": "3.7.1"
  }
 },
 "nbformat": 4,
 "nbformat_minor": 2
}
