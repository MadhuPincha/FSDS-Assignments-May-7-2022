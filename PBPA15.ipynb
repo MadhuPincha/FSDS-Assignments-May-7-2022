{
 "cells": [
  {
   "cell_type": "markdown",
   "metadata": {},
   "source": [
    "**Question 1:**\n",
    "Please write a program using generator to print the numbers which can be divisible by 5 and\n",
    "7 between 0 and n in comma separated form while n is input by console."
   ]
  },
  {
   "cell_type": "code",
   "execution_count": 1,
   "metadata": {},
   "outputs": [
    {
     "name": "stdout",
     "output_type": "stream",
     "text": [
      "100\n",
      "0,35,70\n"
     ]
    }
   ],
   "source": [
    "n=int(input())\n",
    "def div(n):\n",
    "    for i in range(0,n):\n",
    "        if(i%5==0 and i%7==0):\n",
    "            yield(i)\n",
    "f=div(n)\n",
    "l=list(f)\n",
    "print(*l, sep=',')"
   ]
  },
  {
   "cell_type": "markdown",
   "metadata": {},
   "source": [
    "**Question 2:**\n",
    "Please write a program using generator to print the even numbers between 0 and n in comma\n",
    "separated form while n is input by console."
   ]
  },
  {
   "cell_type": "code",
   "execution_count": null,
   "metadata": {},
   "outputs": [
    {
     "name": "stdout",
     "output_type": "stream",
     "text": [
      "10\n",
      "0,2,4,6,8,10\n"
     ]
    }
   ],
   "source": [
    "n=int(input())\n",
    "def div(n):\n",
    "    for i in range(0,n+1):\n",
    "        if(i%2==0):\n",
    "            yield(i)\n",
    "f=div(n)\n",
    "l=list(f)\n",
    "print(*l, sep=',')"
   ]
  },
  {
   "cell_type": "markdown",
   "metadata": {},
   "source": [
    "**Question 3:**\n",
    "The Fibonacci Sequence is computed based on the following formula:\n",
    "f(n)=0 if n=0\n",
    "f(n)=1 if n=1\n",
    "f(n)=f(n-1)+f(n-2) if n&gt;1\n",
    "Please write a program using list comprehension to print the Fibonacci Sequence in comma\n",
    "separated form with a given n input by console."
   ]
  },
  {
   "cell_type": "code",
   "execution_count": null,
   "metadata": {},
   "outputs": [
    {
     "name": "stdout",
     "output_type": "stream",
     "text": [
      "10\n",
      "0,1,1,2,3,5,8,13,21,34,55\n"
     ]
    }
   ],
   "source": [
    "n=int(input())\n",
    "def fib(n):\n",
    "    if(n==0):\n",
    "        return 0\n",
    "    elif(n==1):\n",
    "        return 1\n",
    "    return((fib(n-1)+fib(n-2)))\n",
    "l=[fib(n) for n in range(n+1)]\n",
    "print(*l, sep=',')"
   ]
  },
  {
   "cell_type": "markdown",
   "metadata": {},
   "source": [
    "**Question 4:**\n",
    "Assuming that we have some email addresses in the &quot;username@companyname.com&quot; format,\n",
    "please write program to print the user name of a given email address. Both user names and\n",
    "company names are composed of letters only.\n",
    "Example:\n",
    "If the following email address is given as input to the program:\n",
    "john@google.com\n",
    "Then, the output of the program should be:\n",
    "john"
   ]
  },
  {
   "cell_type": "code",
   "execution_count": null,
   "metadata": {},
   "outputs": [],
   "source": [
    "id=input()\n",
    "l=id.split('@')\n",
    "l[0]"
   ]
  },
  {
   "cell_type": "markdown",
   "metadata": {},
   "source": [
    "**Question 5:**\n",
    "Define a class named Shape and its subclass Square. The Square class has an init function\n",
    "which takes a length as argument. Both classes have a area function which can print the area\n",
    "of the shape where Shape&#39;s area is 0 by default."
   ]
  },
  {
   "cell_type": "code",
   "execution_count": null,
   "metadata": {},
   "outputs": [],
   "source": [
    "class Shape:\n",
    "    name='class Shape'\n",
    "    def area(self):\n",
    "        self.area=0\n",
    "        print('area of Shape = ',self.area)\n",
    "class Square(Shape):\n",
    "    #constructor\n",
    "    def __init__(self, length):\n",
    "        self.length=length\n",
    "        \n",
    "    def area(self):\n",
    "        area=(self.length)**2\n",
    "        print('area of Square is {} and name is {} '.format(area, self.name))\n",
    "        \n",
    "sha=Shape()\n",
    "sha.area()\n",
    "\n",
    "squ=Square(6)\n",
    "squ.area()"
   ]
  },
  {
   "cell_type": "code",
   "execution_count": null,
   "metadata": {},
   "outputs": [],
   "source": []
  }
 ],
 "metadata": {
  "kernelspec": {
   "display_name": "Python 3",
   "language": "python",
   "name": "python3"
  },
  "language_info": {
   "codemirror_mode": {
    "name": "ipython",
    "version": 3
   },
   "file_extension": ".py",
   "mimetype": "text/x-python",
   "name": "python",
   "nbconvert_exporter": "python",
   "pygments_lexer": "ipython3",
   "version": "3.7.1"
  }
 },
 "nbformat": 4,
 "nbformat_minor": 2
}
