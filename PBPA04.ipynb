{
 "cells": [
  {
   "cell_type": "markdown",
   "metadata": {},
   "source": [
    "1. Write a Python Program to Find the Factorial of a Number?\n",
    "2. Write a Python Program to Display the multiplication Table?\n",
    "3. Write a Python Program to Print the Fibonacci sequence?\n",
    "4. Write a Python Program to Check Armstrong Number?\n",
    "5. Write a Python Program to Find Armstrong Number in an Interval?\n",
    "6. Write a Python Program to Find the Sum of Natural Numbers?"
   ]
  },
  {
   "cell_type": "code",
   "execution_count": null,
   "metadata": {},
   "outputs": [],
   "source": [
    "#ANSWER 1\n",
    "n=int(input('Enter number '))\n",
    "mul=1\n",
    "for i in range(1,n+1):\n",
    "    mul=mul*i\n",
    "print(mul)"
   ]
  },
  {
   "cell_type": "code",
   "execution_count": null,
   "metadata": {},
   "outputs": [],
   "source": [
    "#ANSWER 2\n",
    "n=int(input('Enter number '))\n",
    "for i in range(1,11):\n",
    "    print('{} * {} = {}'.format(n,i,n*i))"
   ]
  },
  {
   "cell_type": "code",
   "execution_count": null,
   "metadata": {},
   "outputs": [],
   "source": [
    "#ANSWER 3\n",
    "n=int(input('Enter number of terms you want '))\n",
    "l=[]\n",
    "for i in range(n):\n",
    "    if(i==0 or i==1):\n",
    "        l.append(1)\n",
    "    else:\n",
    "        l.append(l[i-1]+l[i-2])\n",
    "print(l)"
   ]
  },
  {
   "cell_type": "code",
   "execution_count": null,
   "metadata": {},
   "outputs": [],
   "source": [
    "#ANSWER 4 \n",
    "'''n=153\n",
    "1^3+5^3+3^3=1+125+27\n",
    "armstrong'''\n",
    "n=int(input('Enter number '))\n",
    "c=len(str(n))\n",
    "cube=0\n",
    "n1=n\n",
    "while(n1!=0):\n",
    "    d=n1%10\n",
    "    cube=cube+d**c\n",
    "    n1//=10\n",
    "#print(cube)\n",
    "if(cube==n):\n",
    "    print('Armstrong')\n",
    "else:\n",
    "    print('Not Armstrong')"
   ]
  },
  {
   "cell_type": "code",
   "execution_count": null,
   "metadata": {},
   "outputs": [],
   "source": [
    "#ANSWER 5\n",
    "a,b=map(int, input('Enter range ').split())\n",
    "for i in range(a,b+1):\n",
    "    c=len(str(i))\n",
    "    cube=0\n",
    "    i1=i\n",
    "    while(i1!=0):\n",
    "        d=i1%10\n",
    "        cube=cube+d**c\n",
    "        i1//=10\n",
    "    #print(cube)\n",
    "    if(cube==i):\n",
    "        print(i)"
   ]
  },
  {
   "cell_type": "code",
   "execution_count": null,
   "metadata": {},
   "outputs": [],
   "source": [
    "#ANSWER 6\n",
    "n=int(input('Enter number '))\n",
    "sum=0\n",
    "for i in range(n+1):\n",
    "    sum=sum+i\n",
    "print(sum)"
   ]
  },
  {
   "cell_type": "code",
   "execution_count": null,
   "metadata": {},
   "outputs": [],
   "source": []
  }
 ],
 "metadata": {
  "kernelspec": {
   "display_name": "Python 3",
   "language": "python",
   "name": "python3"
  },
  "language_info": {
   "codemirror_mode": {
    "name": "ipython",
    "version": 3
   },
   "file_extension": ".py",
   "mimetype": "text/x-python",
   "name": "python",
   "nbconvert_exporter": "python",
   "pygments_lexer": "ipython3",
   "version": "3.7.1"
  }
 },
 "nbformat": 4,
 "nbformat_minor": 2
}
