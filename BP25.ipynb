{
 "cells": [
  {
   "cell_type": "code",
   "execution_count": 30,
   "metadata": {},
   "outputs": [
    {
     "data": {
      "text/plain": [
       "'The difference between the two kinds of expressions is that the List comprehension is enclosed in square brackets [] while the Generator expression is enclosed in plain parentheses ().\\nA List Comprehension executes immediately and returns a list.\\nA Generator Expression returns an object that can be iterated over.\\nA Generator Expression is doing basically the same thing as a List Comprehension does, but the Generator Expression does it lazily. \\n'"
      ]
     },
     "execution_count": 30,
     "metadata": {},
     "output_type": "execute_result"
    }
   ],
   "source": [
    "#Q1\n",
    "\n",
    "'''The difference between the two kinds of expressions is that the List comprehension is enclosed in square brackets [] while the Generator expression is enclosed in plain parentheses ().\n",
    "A List Comprehension executes immediately and returns a list.\n",
    "A Generator Expression returns an object that can be iterated over.\n",
    "A Generator Expression is doing basically the same thing as a List Comprehension does, but the Generator Expression does it lazily. \n",
    "'''"
   ]
  },
  {
   "cell_type": "code",
   "execution_count": 31,
   "metadata": {},
   "outputs": [
    {
     "name": "stdout",
     "output_type": "stream",
     "text": [
      "<class 'list'>\n",
      "<class 'generator'> \n",
      "\n",
      "192\n",
      "120 \n",
      "\n",
      "4\n",
      "0,1,2,3,4,5,6,7,8,9\n",
      "0,1,2,3,4,5,6,7,8,9\n"
     ]
    }
   ],
   "source": [
    "#Differences\n",
    "\n",
    "lc=[i for i in range(10)]  #list comprehenssion\n",
    "ge=(i for i in range(10))  #generator expression\n",
    "\n",
    "#type\n",
    "print(type(lc))        #list \n",
    "print(type(ge),'\\n')   #generator\n",
    "\n",
    "#memory\n",
    "import sys\n",
    "print(sys.getsizeof(lc))       #consumes more memory\n",
    "print(sys.getsizeof(ge), '\\n') #consumes less memory\n",
    "\n",
    "#extraction of elements through indexes\n",
    "print(lc[4])\n",
    "#print(ge[4])  \n",
    "#TypeError: 'generator' object is not subscriptable\n",
    "\n",
    "\n",
    "#Similarities\n",
    "\n",
    "print(*lc, sep=',')\n",
    "print(*ge, sep=',')"
   ]
  },
  {
   "cell_type": "code",
   "execution_count": null,
   "metadata": {},
   "outputs": [],
   "source": [
    "#Q2\n",
    "'''Generator has similar concept as iterator. The difference is iterators are used to iterate data, but generators are used to generate data, it’s a data generate tool.\n",
    "Let’s see a simple example, we all know that the Fibonacci sequence starts with the third number which is equal to the sum of the two previous numbers. If we want to get one million Fibonacci series, in the traditional way we need to init an array of length one million and calculate them one by one. Obviously it will cost much time and memory.\n",
    "But, if we use generator, we just need to implement the logic of data generation, each time we need data, we can call generator to get it. It will save a lot of memory and calculating resources.'''"
   ]
  },
  {
   "cell_type": "code",
   "execution_count": 28,
   "metadata": {},
   "outputs": [
    {
     "name": "stdout",
     "output_type": "stream",
     "text": [
      "0\n",
      "1\n",
      "2\n",
      "3\n",
      "4\n"
     ]
    }
   ],
   "source": [
    "#Example\n",
    "def gen():\n",
    "    for i in range(5):\n",
    "        yield i\n",
    "        \n",
    "a=gen()  #creating an object of generator\n",
    "#<generator object gen at 0x00000069B1CC52A0>\n",
    "\n",
    "for i in a:\n",
    "    print(i)"
   ]
  },
  {
   "cell_type": "code",
   "execution_count": 25,
   "metadata": {},
   "outputs": [
    {
     "data": {
      "text/plain": [
       "'If the body of a def contains yield, the function automatically becomes a generator function.'"
      ]
     },
     "execution_count": 25,
     "metadata": {},
     "output_type": "execute_result"
    }
   ],
   "source": [
    "#Q3\n",
    "'''If the body of a def contains yield, the function automatically becomes a generator function.'''"
   ]
  },
  {
   "cell_type": "code",
   "execution_count": 23,
   "metadata": {},
   "outputs": [
    {
     "data": {
      "text/plain": [
       "'Yield is a keyword in Python that is used to return from a function without destroying the states of its local variable and when the function is called, the execution starts from the last yield statement.'"
      ]
     },
     "execution_count": 23,
     "metadata": {},
     "output_type": "execute_result"
    }
   ],
   "source": [
    "#Q4\n",
    "'''Yield is a keyword in Python that is used to return from a function without destroying the states of its local variable and when the function is called, the execution starts from the last yield statement.'''"
   ]
  },
  {
   "cell_type": "code",
   "execution_count": 24,
   "metadata": {},
   "outputs": [
    {
     "data": {
      "text/plain": [
       "'Advantages: \\nSince it stores the local variable states, hence overhead of memory allocation is controlled.\\nSince the old state is retained, the flow doesn’t start from the beginning and hence saves time.\\n\\nDisadvantages: \\nSometimes, the use of yield becomes erroneous if the calling of function is not handled properly.\\nTime and memory optimization has a cost of complexity of code and hence sometimes hard to understand the logic behind it.'"
      ]
     },
     "execution_count": 24,
     "metadata": {},
     "output_type": "execute_result"
    }
   ],
   "source": [
    "'''Advantages: \n",
    "Since it stores the local variable states, hence overhead of memory allocation is controlled.\n",
    "Since the old state is retained, the flow doesn’t start from the beginning and hence saves time.\n",
    "\n",
    "Disadvantages: \n",
    "Sometimes, the use of yield becomes erroneous if the calling of function is not handled properly.\n",
    "Time and memory optimization has a cost of complexity of code and hence sometimes hard to understand the logic behind it.'''"
   ]
  },
  {
   "cell_type": "code",
   "execution_count": 32,
   "metadata": {},
   "outputs": [
    {
     "data": {
      "text/plain": [
       "'List comprehension are used when a list of results is required.\\nMap only returns a map object and does not return any list. \\nList comprehension is faster than map when we need to evaluate expressions that are too long or complicated to express.\\nMap is faster in case of calling an already defined function (as no lambda is required).'"
      ]
     },
     "execution_count": 32,
     "metadata": {},
     "output_type": "execute_result"
    }
   ],
   "source": [
    "#Q5\n",
    "'''List comprehension are used when a list of results is required.\n",
    "Map only returns a map object and does not return any list. \n",
    "List comprehension is faster than map when we need to evaluate expressions that are too long or complicated to express.\n",
    "Map is faster in case of calling an already defined function (as no lambda is required).'''"
   ]
  },
  {
   "cell_type": "code",
   "execution_count": 43,
   "metadata": {},
   "outputs": [
    {
     "name": "stdout",
     "output_type": "stream",
     "text": [
      "[0, 1, 4, 9, 16]\n",
      "[0, 1, 4, 9, 16]\n"
     ]
    }
   ],
   "source": [
    "#Example\n",
    "\n",
    "#list comprehenssion\n",
    "l=[x*x for x in range(5)]\n",
    "print(l)\n",
    "\n",
    "#map\n",
    "def square(x):\n",
    "    return x**2\n",
    "\n",
    "squares = map(square, range(5))\n",
    "print(list(squares))"
   ]
  },
  {
   "cell_type": "code",
   "execution_count": null,
   "metadata": {},
   "outputs": [],
   "source": []
  }
 ],
 "metadata": {
  "kernelspec": {
   "display_name": "Python 3",
   "language": "python",
   "name": "python3"
  },
  "language_info": {
   "codemirror_mode": {
    "name": "ipython",
    "version": 3
   },
   "file_extension": ".py",
   "mimetype": "text/x-python",
   "name": "python",
   "nbconvert_exporter": "python",
   "pygments_lexer": "ipython3",
   "version": "3.7.1"
  }
 },
 "nbformat": 4,
 "nbformat_minor": 2
}
